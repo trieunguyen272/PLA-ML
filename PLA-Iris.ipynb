{
 "cells": [
  {
   "cell_type": "code",
   "execution_count": 1,
   "id": "0740ef05",
   "metadata": {},
   "outputs": [],
   "source": [
    "import numpy as np\n",
    "import pandas as pd\n",
    "\n",
    "data = pd.read_csv('iris-data.csv')"
   ]
  },
  {
   "cell_type": "code",
   "execution_count": 2,
   "id": "75492f31",
   "metadata": {},
   "outputs": [
    {
     "data": {
      "text/plain": [
       "array([[5.1, 3.5],\n",
       "       [4.9, 3. ],\n",
       "       [4.7, 3.2],\n",
       "       [4.9, 3. ],\n",
       "       [4.6, 3.1],\n",
       "       [4.6, 3.1],\n",
       "       [4.7, 3.2],\n",
       "       [4.6, 3.4],\n",
       "       [5.4, 3.9],\n",
       "       [5. , 3.6],\n",
       "       [4.7, 3.2],\n",
       "       [4.7, 3.2],\n",
       "       [5.1, 3.5],\n",
       "       [4.4, 2.9],\n",
       "       [5. , 3.4],\n",
       "       [5.4, 3.7],\n",
       "       [4.8, 3.4],\n",
       "       [4.8, 3. ],\n",
       "       [5.8, 4. ],\n",
       "       [4.8, 3.4],\n",
       "       [4.4, 2.9],\n",
       "       [5.1, 3.5],\n",
       "       [5.8, 4. ],\n",
       "       [4.4, 2.9],\n",
       "       [5.5, 2.3],\n",
       "       [5.4, 3.9],\n",
       "       [5.7, 3.8],\n",
       "       [5.4, 3.9],\n",
       "       [5.4, 3.9],\n",
       "       [5.4, 3.9],\n",
       "       [5.7, 4.4],\n",
       "       [4.8, 3.4],\n",
       "       [5.7, 2.8],\n",
       "       [4.7, 3.2],\n",
       "       [5.4, 3.7],\n",
       "       [4.9, 3.1],\n",
       "       [5.2, 2.7],\n",
       "       [4.8, 3.4],\n",
       "       [5.7, 2.8],\n",
       "       [4.8, 3. ],\n",
       "       [6.5, 2.8],\n",
       "       [4.8, 3.4],\n",
       "       [5.2, 2.7],\n",
       "       [5.1, 3.5],\n",
       "       [6.6, 2.9],\n",
       "       [4.6, 3.4],\n",
       "       [7. , 3.2],\n",
       "       [6.4, 3.2],\n",
       "       [4.3, 3. ],\n",
       "       [5.4, 3.9],\n",
       "       [5.6, 2.5],\n",
       "       [4.3, 3. ],\n",
       "       [5.8, 4. ],\n",
       "       [4.6, 3.4],\n",
       "       [6.1, 2.8],\n",
       "       [5.8, 2.7],\n",
       "       [5.1, 3.3],\n",
       "       [5. , 3.6],\n",
       "       [5.6, 2.9],\n",
       "       [4.8, 3.1],\n",
       "       [5. , 3.4],\n",
       "       [5.8, 2.7],\n",
       "       [6.9, 3.1],\n",
       "       [6.7, 3.1],\n",
       "       [6.4, 3.2],\n",
       "       [5.8, 4. ],\n",
       "       [4.9, 3. ],\n",
       "       [6.3, 3.3],\n",
       "       [5.4, 3.4],\n",
       "       [4.8, 3. ],\n",
       "       [5.6, 3. ],\n",
       "       [5.1, 3.3],\n",
       "       [5.9, 3.2],\n",
       "       [5.1, 3.8],\n",
       "       [4.3, 3. ],\n",
       "       [5.1, 3.8],\n",
       "       [5.2, 2.7],\n",
       "       [5. , 3.2],\n",
       "       [5.2, 3.5],\n",
       "       [5. , 3.6],\n",
       "       [5.6, 3. ],\n",
       "       [5.5, 4.2],\n",
       "       [5. , 3.5],\n",
       "       [6.1, 2.8],\n",
       "       [6.5, 2.8],\n",
       "       [5.1, 3.5],\n",
       "       [6. , 2.2],\n",
       "       [5.2, 3.4],\n",
       "       [4.9, 3.1],\n",
       "       [4.4, 3.2],\n",
       "       [6.3, 3.3],\n",
       "       [4.6, 3.2],\n",
       "       [4.6, 3.1],\n",
       "       [5.1, 3.5],\n",
       "       [5.1, 3.8],\n",
       "       [4.9, 3. ],\n",
       "       [5. , 2. ],\n",
       "       [5.2, 2.7],\n",
       "       [4.7, 3. ],\n",
       "       [5.8, 2.6],\n",
       "       [5.2, 2.8],\n",
       "       [5. , 2.7],\n",
       "       [5.2, 3.3],\n",
       "       [5. , 3.6],\n",
       "       [5.6, 2.9],\n",
       "       [5.5, 3.1]])"
      ]
     },
     "execution_count": 2,
     "metadata": {},
     "output_type": "execute_result"
    }
   ],
   "source": [
    "X = np.array(data[['Sepal_length','Sepal_width']])\n",
    "X"
   ]
  },
  {
   "cell_type": "code",
   "execution_count": 4,
   "id": "db32c7c5",
   "metadata": {},
   "outputs": [
    {
     "data": {
      "text/plain": [
       "array([0, 0, 0, 0, 0, 0, 0, 0, 0, 0, 0, 0, 0, 0, 0, 0, 0, 0, 0, 0, 0, 0,\n",
       "       0, 0, 1, 0, 0, 0, 0, 0, 0, 0, 1, 0, 0, 0, 1, 0, 1, 0, 1, 0, 1, 0,\n",
       "       1, 0, 1, 1, 0, 0, 1, 0, 0, 0, 1, 1, 0, 0, 1, 0, 0, 1, 1, 1, 1, 0,\n",
       "       0, 1, 0, 0, 1, 0, 1, 0, 0, 0, 1, 0, 0, 0, 1, 0, 0, 1, 1, 0, 1, 0,\n",
       "       0, 0, 1, 0, 0, 0, 0, 0, 1, 1, 0, 1, 0, 0, 1, 0, 0, 1], dtype=int64)"
      ]
     },
     "execution_count": 4,
     "metadata": {},
     "output_type": "execute_result"
    }
   ],
   "source": [
    "y = np.array(data['Iris'])\n",
    "y"
   ]
  },
  {
   "cell_type": "code",
   "execution_count": 5,
   "id": "2f2a47fc",
   "metadata": {},
   "outputs": [],
   "source": [
    "from sklearn.linear_model import Perceptron\n",
    "model = Perceptron()"
   ]
  },
  {
   "cell_type": "code",
   "execution_count": 6,
   "id": "28fd66a9",
   "metadata": {},
   "outputs": [
    {
     "data": {
      "text/plain": [
       "Perceptron()"
      ]
     },
     "execution_count": 6,
     "metadata": {},
     "output_type": "execute_result"
    }
   ],
   "source": [
    "model.fit(X,y)"
   ]
  },
  {
   "cell_type": "code",
   "execution_count": 7,
   "id": "7a540500",
   "metadata": {},
   "outputs": [],
   "source": [
    "w0=model.intercept_[0]\n",
    "w1=model.coef_[0,0]\n",
    "w2=model.coef_[0,1]"
   ]
  },
  {
   "cell_type": "code",
   "execution_count": 8,
   "id": "154ee8b5",
   "metadata": {},
   "outputs": [
    {
     "data": {
      "text/plain": [
       "(-7.0, 27.999999999999982, -45.999999999999986)"
      ]
     },
     "execution_count": 8,
     "metadata": {},
     "output_type": "execute_result"
    }
   ],
   "source": [
    "w0, w1, w2"
   ]
  },
  {
   "cell_type": "code",
   "execution_count": 12,
   "id": "739abb96",
   "metadata": {},
   "outputs": [
    {
     "data": {
      "text/plain": [
       "[<matplotlib.lines.Line2D at 0x1ec925ca978>]"
      ]
     },
     "execution_count": 12,
     "metadata": {},
     "output_type": "execute_result"
    },
    {
     "data": {
      "image/png": "[encoded data removed]",
      "text/plain": [
       "<Figure size 432x288 with 1 Axes>"
      ]
     },
     "metadata": {
      "needs_background": "light"
     },
     "output_type": "display_data"
    }
   ],
   "source": [
    "import matplotlib.pyplot as plt\n",
    "plt.scatter(X[y==1,0],X[y==1,1],c='b')\n",
    "plt.scatter(X[y==0,0],X[y==0,1],c='r')\n",
    "yy=-(w0+w1*X[:,0])/w2\n",
    "plt.plot(X[:,0],yy, c='g')"
   ]
  },
  {
   "cell_type": "code",
   "execution_count": 13,
   "id": "0cc45e58",
   "metadata": {},
   "outputs": [
    {
     "data": {
      "text/plain": [
       "0.9622641509433962"
      ]
     },
     "execution_count": 13,
     "metadata": {},
     "output_type": "execute_result"
    }
   ],
   "source": [
    "model.score(X, y)"
   ]
  },
  {
   "cell_type": "code",
   "execution_count": null,
   "id": "c6353c18",
   "metadata": {},
   "outputs": [],
   "source": []
  }
 ],
 "metadata": {
  "kernelspec": {
   "display_name": "Python 3",
   "language": "python",
   "name": "python3"
  },
  "language_info": {
   "codemirror_mode": {
    "name": "ipython",
    "version": 3
   },
   "file_extension": ".py",
   "mimetype": "text/x-python",
   "name": "python",
   "nbconvert_exporter": "python",
   "pygments_lexer": "ipython3",
   "version": "3.6.13"
  }
 },
 "nbformat": 4,
 "nbformat_minor": 5
}
